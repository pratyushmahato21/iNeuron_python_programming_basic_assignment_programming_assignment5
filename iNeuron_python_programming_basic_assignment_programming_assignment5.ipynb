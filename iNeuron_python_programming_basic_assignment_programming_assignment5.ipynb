{
 "cells": [
  {
   "cell_type": "markdown",
   "id": "1b6fe168",
   "metadata": {},
   "source": [
    "1. Write a Python Program to Find LCM?"
   ]
  },
  {
   "cell_type": "code",
   "execution_count": 1,
   "id": "80716426",
   "metadata": {},
   "outputs": [
    {
     "name": "stdout",
     "output_type": "stream",
     "text": [
      "Enter first number: 5\n",
      "Enter second number: 6\n",
      "30\n"
     ]
    }
   ],
   "source": [
    "def lcm(a,b):\n",
    "    if a > b:\n",
    "        for i in range(1,a):\n",
    "            if (i*a) % b == 0:\n",
    "                print(i*a)\n",
    "            break\n",
    "    else:\n",
    "        for i in range(1,b):\n",
    "            if (i*b) % a == 0:\n",
    "                print(i*b)\n",
    "                break\n",
    "\n",
    "a = int(input(\"Enter first number: \"))\n",
    "b = int(input(\"Enter second number: \"))\n",
    "\n",
    "lcm(a,b)"
   ]
  },
  {
   "cell_type": "markdown",
   "id": "9e77eac1",
   "metadata": {},
   "source": [
    "2. Write a Python Program to Find HCF?"
   ]
  },
  {
   "cell_type": "code",
   "execution_count": 1,
   "id": "8d4e3bbb",
   "metadata": {},
   "outputs": [
    {
     "name": "stdout",
     "output_type": "stream",
     "text": [
      "Enter first number: 105\n",
      "Enter second number: 48461\n",
      "The HCF of 105 and 48461 is 7\n"
     ]
    }
   ],
   "source": [
    "def hcf(a,b):\n",
    "    l_a = []\n",
    "    l_b = []\n",
    "    for i in range(1,a):\n",
    "        x = a % i\n",
    "        if x == 0:\n",
    "            l_a.append(i)\n",
    "    l_a_in_reverse = l_a[::-1]\n",
    "\n",
    "    for j in range(1,b):\n",
    "        y = b % j\n",
    "        if y == 0:\n",
    "             l_b.append(j)\n",
    "    l_b_in_reverse = l_b[::-1]\n",
    "\n",
    "    for i in l_a_in_reverse:\n",
    "        if i in l_b_in_reverse:\n",
    "            print(f\"The HCF of {a} and {b} is {i}\")\n",
    "            break\n",
    "\n",
    "a = int(input(\"Enter first number: \"))\n",
    "b = int(input(\"Enter second number: \"))\n",
    "\n",
    "hcf(a,b)"
   ]
  },
  {
   "cell_type": "markdown",
   "id": "96de121d",
   "metadata": {},
   "source": [
    "3.\tWrite a Python Program to Convert Decimal to Binary, Octal and Hexadecimal?"
   ]
  },
  {
   "cell_type": "code",
   "execution_count": 3,
   "id": "907c0179",
   "metadata": {},
   "outputs": [
    {
     "name": "stdout",
     "output_type": "stream",
     "text": [
      "Enter a number: 51\n",
      "The binary of 51 is 0b110011\n",
      "The Octal of 51 is 0o63\n",
      "The Hexadecimal of 51 is 0x33\n"
     ]
    }
   ],
   "source": [
    "a = int(input(\"Enter a number: \"))\n",
    "print(f\"The binary of {a} is {bin(a)}\")\n",
    "print(f\"The Octal of {a} is {oct(a)}\")\n",
    "print(f\"The Hexadecimal of {a} is {hex(a)}\")"
   ]
  },
  {
   "cell_type": "markdown",
   "id": "67054e5e",
   "metadata": {},
   "source": [
    "4.\tWrite a Python Program To Find ASCII value of a character?"
   ]
  },
  {
   "cell_type": "code",
   "execution_count": 4,
   "id": "91e79c14",
   "metadata": {},
   "outputs": [
    {
     "name": "stdout",
     "output_type": "stream",
     "text": [
      "Enter a character: g\n",
      "The ASCII of g is 103\n"
     ]
    }
   ],
   "source": [
    "a = input(\"Enter a character: \")\n",
    "print(f\"The ASCII of {a} is {ord(a)}\")\n"
   ]
  },
  {
   "cell_type": "markdown",
   "id": "4e13127f",
   "metadata": {},
   "source": [
    "5.\tWrite a Python Program to Make a Simple Calculator with 4 basic mathematical operations?"
   ]
  },
  {
   "cell_type": "code",
   "execution_count": null,
   "id": "0a95a6e9",
   "metadata": {},
   "outputs": [
    {
     "name": "stdout",
     "output_type": "stream",
     "text": [
      "Enter the first number: 5\n",
      "+\n",
      "-\n",
      "*\n",
      "/\n",
      "Pick an operation: +\n",
      "What is the next number?: 6\n",
      "5.0+6.0 = 11.0\n",
      "Type 'y' to continue calculating with 11.0 or type 'n' to start a new calculation. : y\n",
      "Pick an operation: -\n",
      "What is the next number?: 2\n",
      "11.0-2.0 = 9.0\n"
     ]
    }
   ],
   "source": [
    "def add(n1, n2):\n",
    "    return n1 + n2\n",
    "def subtract(n1, n2):\n",
    "    return n1 - n2\n",
    "def multiply(n1, n2):\n",
    "    return n1 * n2\n",
    "def divide(n1, n2):\n",
    "    return n1 / n2\n",
    "operations = {\n",
    "    '+': add,\n",
    "    '-': subtract,\n",
    "    '*': multiply,\n",
    "    '/': divide,\n",
    "}\n",
    "def calculator():\n",
    "    num1 = float(input(\"Enter the first number: \"))\n",
    "    for symbol in operations:\n",
    "        print(symbol)\n",
    "\n",
    "    should_continue = True\n",
    "    while should_continue:\n",
    "        operation_symbol = input(\"Pick an operation: \")\n",
    "        num2 = float(input(\"What is the next number?: \"))\n",
    "        calculation_function = operations[operation_symbol]\n",
    "        answer = calculation_function(num1,num2)\n",
    "        print(f\"{num1}{operation_symbol}{num2} = {answer}\")\n",
    "\n",
    "        if input(f\"Type 'y' to continue calculating with {answer} or type 'n' to start a new calculation. : \") == 'y':\n",
    "            num1 = answer\n",
    "        else:\n",
    "            should_continue = False\n",
    "            calculator()\n",
    "\n",
    "calculator()\n"
   ]
  },
  {
   "cell_type": "code",
   "execution_count": null,
   "id": "6d4515e6",
   "metadata": {},
   "outputs": [],
   "source": []
  }
 ],
 "metadata": {
  "kernelspec": {
   "display_name": "Python 3",
   "language": "python",
   "name": "python3"
  },
  "language_info": {
   "codemirror_mode": {
    "name": "ipython",
    "version": 3
   },
   "file_extension": ".py",
   "mimetype": "text/x-python",
   "name": "python",
   "nbconvert_exporter": "python",
   "pygments_lexer": "ipython3",
   "version": "3.8.10"
  }
 },
 "nbformat": 4,
 "nbformat_minor": 5
}
